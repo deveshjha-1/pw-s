{
  "nbformat": 4,
  "nbformat_minor": 0,
  "metadata": {
    "colab": {
      "provenance": []
    },
    "kernelspec": {
      "name": "python3",
      "display_name": "Python 3"
    },
    "language_info": {
      "name": "python"
    }
  },
  "cells": [
    {
      "cell_type": "code",
      "execution_count": null,
      "metadata": {
        "id": "yt97M0cQe4PF"
      },
      "outputs": [],
      "source": []
    },
    {
      "cell_type": "markdown",
      "source": [
        "DATA TOOLKIT ASSIGNMENTS QUEATION AND ANSWERS"
      ],
      "metadata": {
        "id": "Wfe6-VAUfEzq"
      }
    },
    {
      "cell_type": "markdown",
      "source": [
        "1. What is NumPy, and why is it widely used in Python?\n",
        "Answer:\n",
        "NumPy is a Python library used for high-performance array computing and numerical operations. It provides fast operations, broadcasting, and is the foundation for libraries like Pandas and SciPy.\n",
        "\n",
        "2. How does broadcasting work in NumPy?\n",
        "Answer:\n",
        "Broadcasting allows operations on arrays of different shapes. The smaller array is automatically expanded to match the shape of the larger array without copying data.\n",
        "\n",
        "3. What is a Pandas DataFrame?\n",
        "Answer:\n",
        "A DataFrame is a 2D table-like data structure in Pandas with labeled rows and columns, similar to an Excel spreadsheet, used for structured data manipulation.\n",
        "\n",
        "4. Explain the use of the groupby() method in Pandas.\n",
        "Answer:\n",
        "The groupby() method groups data based on one or more columns and allows aggregate functions like sum(), mean() to be applied to each group.\n",
        "\n",
        "5. Why is Seaborn preferred for statistical visualizations?\n",
        "Answer:\n",
        "Seaborn provides attractive and easy-to-use statistical plots like boxplots, violin plots, and heatmaps. It’s built on top of Matplotlib with a higher-level interface.\n",
        "\n",
        "6. What are the differences between NumPy arrays and Python lists?\n",
        "Answer:\n",
        "\n",
        "NumPy Array\tPython List\n",
        "Homogeneous (same data type)\tHeterogeneous\n",
        "Fast and memory-efficient\tSlower for large data\n",
        "Vectorized operations\tRequires loops\n",
        "Multidimensional support\t1D by default\n",
        "\n",
        "7. What is a heatmap, and when should it be used?\n",
        "Answer:\n",
        "A heatmap is a data visualization where values are represented by color. It's useful for visualizing correlation matrices, missing data, and large datasets.\n",
        "\n",
        "8. What does the term “vectorized operation” mean in NumPy?\n",
        "Answer:\n",
        "Vectorized operations apply functions to entire arrays without explicit loops, making code faster and more efficient.\n",
        "\n",
        "9. How does Matplotlib differ from Plotly?\n",
        "Answer:\n",
        "\n",
        "Matplotlib\tPlotly\n",
        "Static visualizations\tInteractive visualizations\n",
        "Traditional library\tWeb-ready and modern\n",
        "Steeper learning curve\tEasier with templates\n",
        "\n",
        "10. What is the significance of hierarchical indexing in Pandas?\n",
        "Answer:\n",
        "Hierarchical indexing (MultiIndex) allows multiple index levels in a DataFrame or Series, useful for working with higher-dimensional data.\n",
        "\n",
        "11. What is the role of Seaborn’s pairplot() function?\n",
        "Answer:\n",
        "The pairplot() function creates pairwise scatter plots and histograms to show relationships between variables in a dataset.\n",
        "\n",
        "12. What is the purpose of the describe() function in Pandas?\n",
        "Answer:\n",
        "The describe() function returns statistical summary of numerical data including count, mean, standard deviation, min, max, and percentiles.\n",
        "\n",
        "13. Why is handling missing data important in Pandas?\n",
        "Answer:\n",
        "Missing data can lead to incorrect analysis. Pandas provides tools like dropna() and fillna() to handle missing values effectively.\n",
        "\n",
        "14. What are the benefits of using Plotly for data visualization?\n",
        "Answer:\n",
        "Plotly creates interactive, web-based, and visually appealing charts with features like zoom, tooltips, and animations.\n",
        "\n",
        "15. How does NumPy handle multidimensional arrays?\n",
        "Answer:\n",
        "NumPy uses ndarray objects that can represent n-dimensional data (1D, 2D, 3D, etc.) efficiently in memory.\n",
        "\n",
        "16. What is the role of Bokeh in data visualization?\n",
        "Answer:\n",
        "Bokeh is a Python library for creating interactive, browser-based visualizations suitable for dashboards and web apps.\n",
        "\n",
        "17. Explain the difference between apply() and map() in Pandas.\n",
        "Answer:\n",
        "\n",
        "map() is used only on Series for element-wise transformations.\n",
        "\n",
        "apply() works on both Series and DataFrames and can apply custom functions.\n",
        "\n",
        "18. What are some advanced features of NumPy?\n",
        "Answer:\n",
        "\n",
        "Broadcasting\n",
        "\n",
        "Universal functions (ufuncs)\n",
        "\n",
        "Memory mapping\n",
        "\n",
        "Linear algebra operations\n",
        "\n",
        "Random number generation\n",
        "\n",
        "19. How does Pandas simplify time series analysis?\n",
        "Answer:\n",
        "Pandas offers built-in support for time-based indexing, resampling, date ranges, and rolling statistics, making time series analysis simple.\n",
        "\n",
        "20. What is the role of a pivot table in Pandas?\n",
        "Answer:\n",
        "A pivot table summarizes data by grouping it and applying aggregate functions, similar to Excel pivot tables.\n",
        "\n",
        "21. Why is NumPy’s array slicing faster than Python’s list slicing?\n",
        "Answer:\n",
        "NumPy arrays are stored in contiguous memory, making slicing and access operations much faster compared to Python lists.\n",
        "\n",
        "22. What are some common use cases for Seaborn?\n",
        "Answer:\n",
        "\n",
        "Heatmaps (correlation, missing data)\n",
        "\n",
        "Distribution plots (distplot, kdeplot)\n",
        "\n",
        "Categorical plots (boxplot, violinplot)\n",
        "\n",
        "Pairwise relationships (pairplot)\n",
        "\n",
        "Time series plots"
      ],
      "metadata": {
        "id": "El0IiIP0flhK"
      }
    },
    {
      "cell_type": "code",
      "source": [
        "\n",
        "# 1. How do you create a 2D NumPy array and calculate the sum of each row?\n",
        "# Answer:\n",
        "arr = np.array([[1, 2, 3], [4, 5, 6]])\n",
        "row_sum = np.sum(arr, axis=1)\n",
        "print(row_sum)"
      ],
      "metadata": {
        "id": "gDU_fjAPiyub"
      },
      "execution_count": null,
      "outputs": []
    },
    {
      "cell_type": "code",
      "source": [
        "# 2. Write a Pandas script to find the mean of a specific column in a DataFrame.\n",
        "# Answer:\n",
        "\n",
        "df = pd.DataFrame({'Age': [25, 30, 35, 40]})\n",
        "mean_age = df['Age'].mean()\n",
        "print(mean_age)"
      ],
      "metadata": {
        "id": "r1eI6XiGi2i6"
      },
      "execution_count": null,
      "outputs": []
    },
    {
      "cell_type": "code",
      "source": [
        "# 3. Create a scatter plot using Matplotlib.\n",
        "# Answer:\n",
        "x = [1, 2, 3, 4]\n",
        "y = [10, 20, 25, 30]\n",
        "\n",
        "plt.scatter(x, y)\n",
        "plt.title(\"Scatter Plot\")\n",
        "plt.xlabel(\"X-axis\")\n",
        "plt.ylabel(\"Y-axis\")\n",
        "plt.show()"
      ],
      "metadata": {
        "id": "tHBSuY20kGMM"
      },
      "execution_count": null,
      "outputs": []
    },
    {
      "cell_type": "code",
      "source": [
        "# 4. How do you calculate the correlation matrix using Seaborn and visualize it with a heatmap?\n",
        "# Answer:\n",
        "\n",
        "df = pd.DataFrame({\n",
        "    'A': [1, 2, 3, 4],\n",
        "    'B': [4, 3, 2, 1],\n",
        "    'C': [2, 4, 6, 8]\n",
        "})\n",
        "corr = df.corr()\n",
        "sns.heatmap(corr, annot=True, cmap='coolwarm')\n",
        "plt.show()"
      ],
      "metadata": {
        "id": "kLu4f-GokR5M"
      },
      "execution_count": null,
      "outputs": []
    },
    {
      "cell_type": "code",
      "source": [
        "# 5. Generate a bar plot using Plotly.\n",
        "# Answer:\n",
        "data = {'Fruits': ['Apple', 'Banana', 'Mango'], 'Quantity': [10, 20, 15]}\n",
        "df = pd.DataFrame(data)\n",
        "\n",
        "fig = px.bar(df, x='Fruits', y='Quantity', title='Fruit Quantity')\n",
        "fig.show()"
      ],
      "metadata": {
        "id": "YBwmv4eulS-v"
      },
      "execution_count": null,
      "outputs": []
    },
    {
      "cell_type": "code",
      "source": [
        "# 6. Create a DataFrame and add a new column based on an existing column.\n",
        "# Answer:\n",
        "\n",
        "df = pd.DataFrame({'Salary': [1000, 2000, 3000]})\n",
        "df['Tax'] = df['Salary'] * 0.1\n",
        "print(df)"
      ],
      "metadata": {
        "id": "rS-Zn4ZBlvZd"
      },
      "execution_count": null,
      "outputs": []
    },
    {
      "cell_type": "code",
      "source": [
        "# 7. Write a program to perform element-wise multiplication of two NumPy arrays.\n",
        "# Answer:\n",
        "\n",
        "a = np.array([1, 2, 3])\n",
        "b = np.array([4, 5, 6])\n",
        "result = a * b\n",
        "print(result)"
      ],
      "metadata": {
        "id": "2hdLyQPzl7Cw"
      },
      "execution_count": null,
      "outputs": []
    },
    {
      "cell_type": "code",
      "source": [
        "# 8. Create a line plot with multiple lines using Matplotlib.\n",
        "# Answer:\n",
        "x = [1, 2, 3, 4]\n",
        "y1 = [10, 20, 30, 40]\n",
        "y2 = [5, 15, 25, 35]\n",
        "\n",
        "plt.plot(x, y1, label='Line 1')\n",
        "plt.plot(x, y2, label='Line 2')\n",
        "plt.title(\"Multiple Line Plot\")\n",
        "plt.legend()\n",
        "plt.show()"
      ],
      "metadata": {
        "id": "Fj3Z04yhmEPz"
      },
      "execution_count": null,
      "outputs": []
    },
    {
      "cell_type": "code",
      "source": [
        "# 9. Generate a Pandas DataFrame and filter rows where a column value is greater than a threshold.\n",
        "# Answer:\n",
        "df = pd.DataFrame({'Score': [60, 80, 90, 50]})\n",
        "filtered = df[df['Score'] > 70]\n",
        "print(filtered)"
      ],
      "metadata": {
        "id": "GYoGV1d9mQdj"
      },
      "execution_count": null,
      "outputs": []
    },
    {
      "cell_type": "code",
      "source": [
        "# 10. Create a histogram using Seaborn to visualize a distribution.\n",
        "# Answer:\n",
        "data = [10, 20, 20, 30, 40, 40, 50, 60]\n",
        "sns.histplot(data, bins=5, kde=True)\n",
        "plt.title(\"Histogram\")\n",
        "plt.show()"
      ],
      "metadata": {
        "id": "T2whLWQtmZ3l"
      },
      "execution_count": null,
      "outputs": []
    },
    {
      "cell_type": "code",
      "source": [
        "# 11. Perform matrix multiplication using NumPy.\n",
        "# Answer:\n",
        "a = np.array([[1, 2], [3, 4]])\n",
        "b = np.array([[5, 6], [7, 8]])\n",
        "result = np.dot(a, b)\n",
        "print(result)"
      ],
      "metadata": {
        "id": "_Dh49rLKmhRH"
      },
      "execution_count": null,
      "outputs": []
    },
    {
      "cell_type": "code",
      "source": [
        "# 12. Use Pandas to load a CSV file and display its first 5 rows.\n",
        "# Answer:\n",
        "df = pd.read_csv('data.csv')\n",
        "print(df.head())"
      ],
      "metadata": {
        "id": "pXTPwsBgmoN5"
      },
      "execution_count": null,
      "outputs": []
    },
    {
      "cell_type": "code",
      "source": [
        "# 13. Create a 3D scatter plot using Plotly.\n",
        "# Answer:\n",
        "df = pd.DataFrame({\n",
        "    'x': [1, 2, 3, 4],\n",
        "    'y': [10, 20, 30, 40],\n",
        "    'z': [5, 15, 25, 35]\n",
        "})\n",
        "\n",
        "fig = px.scatter_3d(df, x='x', y='y', z='z', title='3D Scatter Plot')\n",
        "fig.show()\n"
      ],
      "metadata": {
        "id": "0MAEpNa1mwPL"
      },
      "execution_count": null,
      "outputs": []
    }
  ]
}